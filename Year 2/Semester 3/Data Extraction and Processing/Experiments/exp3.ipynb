{
 "cells": [
  {
   "cell_type": "code",
   "execution_count": null,
   "metadata": {},
   "outputs": [],
   "source": [
    "import pandas as pd\n",
    "import numpy as np\n",
    "\n",
    "DF = pd.read_csv('customer_churn.csv')\n",
    "print(DF)\n",
    "\n",
    "#1a\n",
    "print(DF[\"MonthlyCharges\"][4])\n",
    "print(DF[\"MonthlyCharges\"][4]+5)\n",
    "\n",
    "#1b\n",
    "print(DF[\"MonthlyCharges\"][5])\n",
    "print(DF[\"MonthlyCharges\"][5] - 9.65)\n",
    "\n",
    "#1c\n",
    "print(DF[\"MonthlyCharges\"][0])\n",
    "print(DF[\"MonthlyCharges\"][0] * 3)\n",
    "\n",
    "#1d\n",
    "print(DF[\"MonthlyCharges\"][36])\n",
    "print(DF[\"MonthlyCharges\"][36] / 3)\n",
    "\n",
    "#2a\n",
    "print(DF[\"tenure\"][0] > DF[\"tenure\"][9])\n",
    "print(DF[\"tenure\"][2] == DF[\"tenure\"][4])\n",
    "\n",
    "#3a\n",
    "c = int(0)\n",
    "for i in range(0,len(DF)):\n",
    "    if DF[\"TechSupport\"][i].upper() == \"YES\" and DF[\"StreamingTV\"][i].upper() == \"YES\":\n",
    "        c+=1\n",
    "print(c)\n",
    "\n",
    "#3b\n",
    "Internet_dsl_fiber = int(0)\n",
    "for i in DF[\"InternetService\"]:\n",
    "    if i == \"DSL\" or i == \"Fiber optic\":\n",
    "        Internet_dsl_fiber += 1\n",
    "        #print(i)\n",
    "print(Internet_dsl_fiber)\n",
    "\n",
    "#3c\n",
    "senior_male_electronic = int(0)\n",
    "for i in range(0,len(DF)):\n",
    "    if DF[\"PaymentMethod\"][i] == \"Electronic check\" and DF[\"SeniorCitizen\"][i] == 1 and DF[\"gender\"][i] == \"Male\":\n",
    "        senior_male_electronic += 1\n",
    "print(senior_male_electronic)\n",
    "\n",
    "#4\n",
    "cnt = 0\n",
    "maxten = 0\n",
    "for i in range(0,len(DF)):\n",
    "    if DF[\"InternetService\"][i] == \"DSL\" and DF[\"tenure\"][i] > 45:\n",
    "        cnt += 1\n",
    "        if maxten < DF[\"tenure\"][i]:\n",
    "            maxten = DF[\"tenure\"][i]\n",
    "print(cnt, maxten)\n",
    "\n",
    "#5\n",
    "tengrade = []\n",
    "for i in DF[\"tenure\"]:\n",
    "    if i>1 and i<= 25:\n",
    "        tengrade.append(\"Low\")\n",
    "    elif i>25 and i<= 50:\n",
    "        tengrade.append(\"Medium\")\n",
    "    elif i>50 and i<= 100:\n",
    "        tengrade.append(\"High\")\n",
    "    else:\n",
    "        tengrade.append(\"NA\")\n",
    "DF[\"Tenure_Grade\"] = tengrade\n",
    "print(DF)\n",
    "\n"
   ]
  },
  {
   "cell_type": "code",
   "execution_count": 21,
   "metadata": {},
   "outputs": [
    {
     "ename": "SyntaxError",
     "evalue": "invalid syntax. Perhaps you forgot a comma? (3048615554.py, line 2)",
     "output_type": "error",
     "traceback": [
      "\u001b[1;36m  Cell \u001b[1;32mIn[21], line 2\u001b[1;36m\u001b[0m\n\u001b[1;33m    ping(192.168.1.1)\u001b[0m\n\u001b[1;37m         ^\u001b[0m\n\u001b[1;31mSyntaxError\u001b[0m\u001b[1;31m:\u001b[0m invalid syntax. Perhaps you forgot a comma?\n"
     ]
    }
   ],
   "source": []
  }
 ],
 "metadata": {
  "kernelspec": {
   "display_name": "base",
   "language": "python",
   "name": "python3"
  },
  "language_info": {
   "codemirror_mode": {
    "name": "ipython",
    "version": 3
   },
   "file_extension": ".py",
   "mimetype": "text/x-python",
   "name": "python",
   "nbconvert_exporter": "python",
   "pygments_lexer": "ipython3",
   "version": "3.11.3"
  },
  "orig_nbformat": 4
 },
 "nbformat": 4,
 "nbformat_minor": 2
}
