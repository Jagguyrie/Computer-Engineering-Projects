{
 "cells": [
  {
   "cell_type": "markdown",
   "metadata": {},
   "source": [
    "# DEP Exp 2"
   ]
  },
  {
   "cell_type": "code",
   "execution_count": 1,
   "metadata": {},
   "outputs": [
    {
     "name": "stdout",
     "output_type": "stream",
     "text": [
      "[150 175 200 215 200]\n",
      "[120 125 140 145 160]\n",
      "Concatenate:\n",
      "[150 175 200 215 200 120 125 140 145 160]\n",
      "Matrix\n",
      "[[150 175 200 215 200]\n",
      " [120 125 140 145 160]]\n",
      "[[[1. 0. 1.]\n",
      "  [0. 1. 0.]\n",
      "  [1. 0. 1.]]\n",
      "\n",
      " [[1. 0. 1.]\n",
      "  [0. 1. 0.]\n",
      "  [1. 0. 1.]]\n",
      "\n",
      " [[1. 0. 1.]\n",
      "  [0. 1. 0.]\n",
      "  [1. 0. 1.]]]\n",
      "{'F', 'male', 'M', 'Female', 'Male'} \n",
      "\n",
      "       0      1      2      3      4      5      6      7      8      9\n",
      "0    101    102    103    104    105    106    107    108    109    110\n",
      "1      A      B      C      D      E      F      G      H      I      J\n",
      "2     19     21     22     24     34     51     28     39     30     35\n",
      "3  10000  12000  14000  17500  20000  45000  30000  19500  30000  32000 \n",
      "\n",
      "Average salary is:\t 23000.0\n",
      "Std. Deviation of salary is:\t 10982.309006357047 \n",
      "\n",
      "Level of Female = 1\n",
      "Level of male = 1\n",
      "Level of Male = 1\n",
      "Level of M = 1\n",
      "Level of F = 2\n",
      "Level of F = 2\n"
     ]
    }
   ],
   "source": [
    "import pandas as pd\n",
    "import numpy as np\n",
    "import statistics as stc\n",
    "\n",
    "#Q1\n",
    "MSFT = [150, 175, 200, 215, 200]\n",
    "FB = [120, 125, 140, 145, 160]\n",
    "msftarr = np.array(MSFT)\n",
    "fbarr = np.array(FB)\n",
    "\n",
    "#Q2\n",
    "Stock = np.concatenate([msftarr, fbarr])\n",
    "print(msftarr, fbarr, \"Concatenate:\", Stock, sep=\"\\n\")\n",
    "\n",
    "#Q3\n",
    "print(\"Matrix\")\n",
    "mat = np.matrix([msftarr, fbarr])\n",
    "print(mat)\n",
    "\n",
    "#Q4\n",
    "M3d = np.zeros((3,3,3))\n",
    "M3d[::2, ::2, ::2] = 1\n",
    "M3d[::2, 1::2, 1::2] = 1\n",
    "M3d[1::2, ::2, ::2] = 1\n",
    "M3d[1,1,1] = 1\n",
    "print(M3d)\n",
    "\n",
    "#Q5\n",
    "gender = ['Female', 'male', 'Male', 'M', 'F', 'F']\n",
    "factor = set(gender)\n",
    "print(factor, \"\\n\")\n",
    "\n",
    "#Q6\n",
    "empId = [101, 102, 103, 104, 105, 106, 107, 108, 109, 110]\n",
    "empName = [\"A\", \"B\", \"C\", \"D\", \"E\", \"F\", \"G\", \"H\", \"I\", \"J\"]\n",
    "age = [19, 21, 22, 24, 34, 51, 28, 39, 30, 35]\n",
    "sal = [10000, 12000, 14000, 17500, 20000, 45000, 30000, 19500, 30000, 32000]\n",
    "DF = pd.DataFrame([empId, empName, age, sal])\n",
    "print(DF, \"\\n\")\n",
    "print(\"Average salary is:\\t\", np.mean(sal))\n",
    "print(\"Std. Deviation of salary is:\\t\", stc.stdev(sal), \"\\n\")\n",
    "gdr = gender\n",
    "for i in gdr:\n",
    "    level = int(0)\n",
    "    for g in range(0,len(gdr)):\n",
    "        if i == gdr[g]:\n",
    "            level+=1\n",
    "    print(\"Level of\", i, \"=\", level)"
   ]
  },
  {
   "cell_type": "code",
   "execution_count": 23,
   "metadata": {},
   "outputs": [
    {
     "name": "stdout",
     "output_type": "stream",
     "text": [
      "[[[1. 0. 1.]\n",
      "  [0. 1. 0.]\n",
      "  [1. 0. 1.]]\n",
      "\n",
      " [[1. 0. 1.]\n",
      "  [0. 1. 0.]\n",
      "  [1. 0. 1.]]\n",
      "\n",
      " [[1. 0. 1.]\n",
      "  [0. 1. 0.]\n",
      "  [1. 0. 1.]]]\n"
     ]
    }
   ],
   "source": [
    "# x -> matrix no, y -> row no, z -> col no"
   ]
  }
 ],
 "metadata": {
  "kernelspec": {
   "display_name": "base",
   "language": "python",
   "name": "python3"
  },
  "language_info": {
   "codemirror_mode": {
    "name": "ipython",
    "version": 3
   },
   "file_extension": ".py",
   "mimetype": "text/x-python",
   "name": "python",
   "nbconvert_exporter": "python",
   "pygments_lexer": "ipython3",
   "version": "3.11.3"
  },
  "orig_nbformat": 4
 },
 "nbformat": 4,
 "nbformat_minor": 2
}
